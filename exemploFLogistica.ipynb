{
 "cells": [
  {
   "cell_type": "code",
   "execution_count": 1,
   "metadata": {},
   "outputs": [],
   "source": [
    "import pandas            as pd\n",
    "import numpy             as np\n",
    "import scipy.optimize    as optim\n",
    "import matplotlib.pyplot as plt\n",
    "import math\n",
    "plt.style.use('ggplot')\n",
    "%matplotlib inline"
   ]
  },
  {
   "cell_type": "code",
   "execution_count": 2,
   "metadata": {},
   "outputs": [],
   "source": [
    "def exemploLog(t, a, b, c):\n",
    "    return c / (1 + a * np.exp(-b * t) )"
   ]
  },
  {
   "cell_type": "code",
   "execution_count": 3,
   "metadata": {},
   "outputs": [
    {
     "data": {
      "text/html": [
       "<div>\n",
       "<style scoped>\n",
       "    .dataframe tbody tr th:only-of-type {\n",
       "        vertical-align: middle;\n",
       "    }\n",
       "\n",
       "    .dataframe tbody tr th {\n",
       "        vertical-align: top;\n",
       "    }\n",
       "\n",
       "    .dataframe thead th {\n",
       "        text-align: right;\n",
       "    }\n",
       "</style>\n",
       "<table border=\"1\" class=\"dataframe\">\n",
       "  <thead>\n",
       "    <tr style=\"text-align: right;\">\n",
       "      <th></th>\n",
       "      <th>Date</th>\n",
       "      <th>Confirmed</th>\n",
       "    </tr>\n",
       "  </thead>\n",
       "  <tbody>\n",
       "    <tr>\n",
       "      <td>0</td>\n",
       "      <td>2020-01-22</td>\n",
       "      <td>548.0</td>\n",
       "    </tr>\n",
       "    <tr>\n",
       "      <td>1</td>\n",
       "      <td>2020-01-23</td>\n",
       "      <td>643.0</td>\n",
       "    </tr>\n",
       "    <tr>\n",
       "      <td>2</td>\n",
       "      <td>2020-01-24</td>\n",
       "      <td>920.0</td>\n",
       "    </tr>\n",
       "    <tr>\n",
       "      <td>3</td>\n",
       "      <td>2020-01-25</td>\n",
       "      <td>1406.0</td>\n",
       "    </tr>\n",
       "    <tr>\n",
       "      <td>4</td>\n",
       "      <td>2020-01-26</td>\n",
       "      <td>2075.0</td>\n",
       "    </tr>\n",
       "  </tbody>\n",
       "</table>\n",
       "</div>"
      ],
      "text/plain": [
       "        Date  Confirmed\n",
       "0 2020-01-22      548.0\n",
       "1 2020-01-23      643.0\n",
       "2 2020-01-24      920.0\n",
       "3 2020-01-25     1406.0\n",
       "4 2020-01-26     2075.0"
      ]
     },
     "execution_count": 3,
     "metadata": {},
     "output_type": "execute_result"
    }
   ],
   "source": [
    "# Baixar DataSet\n",
    "df = pd.read_csv('https://raw.githubusercontent.com/datasets/covid-19/master/data/countries-aggregated.csv')\n",
    "# Converter Data e Float\n",
    "df['Date'] = pd.to_datetime(df['Date'])\n",
    "df['Confirmed'] = df['Confirmed'].astype(float)\n",
    "# Filtrar apenas colunas desejadas\n",
    "df = df.filter(items=['Date', 'Country','Confirmed'])\n",
    "# Filtrar o pais de analise\n",
    "df = df[df['Country'] == 'China']\n",
    "# Tranformar e ordernas dataset pela data\n",
    "df = df.set_index('Date').sort_index()\n",
    "# Obter a soma diaria dos casos por dia \n",
    "# (no caso de mais de uma anotação mesmo dia junta e soma)\n",
    "df = df.resample('D').sum().dropna()\n",
    "# Voltar indice para campo\n",
    "df = df.reset_index(drop=False)\n",
    "df.head()"
   ]
  },
  {
   "cell_type": "code",
   "execution_count": 4,
   "metadata": {},
   "outputs": [
    {
     "data": {
      "text/html": [
       "<div>\n",
       "<style scoped>\n",
       "    .dataframe tbody tr th:only-of-type {\n",
       "        vertical-align: middle;\n",
       "    }\n",
       "\n",
       "    .dataframe tbody tr th {\n",
       "        vertical-align: top;\n",
       "    }\n",
       "\n",
       "    .dataframe thead th {\n",
       "        text-align: right;\n",
       "    }\n",
       "</style>\n",
       "<table border=\"1\" class=\"dataframe\">\n",
       "  <thead>\n",
       "    <tr style=\"text-align: right;\">\n",
       "      <th></th>\n",
       "      <th>Date</th>\n",
       "      <th>Confirmed</th>\n",
       "    </tr>\n",
       "  </thead>\n",
       "  <tbody>\n",
       "    <tr>\n",
       "      <td>0</td>\n",
       "      <td>2020-01-22</td>\n",
       "      <td>548.0</td>\n",
       "    </tr>\n",
       "    <tr>\n",
       "      <td>1</td>\n",
       "      <td>2020-01-23</td>\n",
       "      <td>643.0</td>\n",
       "    </tr>\n",
       "    <tr>\n",
       "      <td>2</td>\n",
       "      <td>2020-01-24</td>\n",
       "      <td>920.0</td>\n",
       "    </tr>\n",
       "    <tr>\n",
       "      <td>3</td>\n",
       "      <td>2020-01-25</td>\n",
       "      <td>1406.0</td>\n",
       "    </tr>\n",
       "    <tr>\n",
       "      <td>4</td>\n",
       "      <td>2020-01-26</td>\n",
       "      <td>2075.0</td>\n",
       "    </tr>\n",
       "  </tbody>\n",
       "</table>\n",
       "</div>"
      ],
      "text/plain": [
       "        Date  Confirmed\n",
       "0 2020-01-22      548.0\n",
       "1 2020-01-23      643.0\n",
       "2 2020-01-24      920.0\n",
       "3 2020-01-25     1406.0\n",
       "4 2020-01-26     2075.0"
      ]
     },
     "execution_count": 4,
     "metadata": {},
     "output_type": "execute_result"
    }
   ],
   "source": [
    "df = df.filter(items=['Date','Confirmed'])\n",
    "df.head()"
   ]
  },
  {
   "cell_type": "code",
   "execution_count": 23,
   "metadata": {},
   "outputs": [
    {
     "name": "stdout",
     "output_type": "stream",
     "text": [
      "a b c aleatorios =  [1.79447119 2.15384728 1.52129693]\n",
      "a= 61.378603568927026 b= 0.21826351119054233 c= 81562.34807685633\n"
     ]
    }
   ],
   "source": [
    "# Inicializar a, b, c de forma aleatoria\n",
    "p0 = np.random.exponential(size=3)\n",
    "print('a b c aleatorios = ', p0)\n",
    "# bound de valor minimo fixo e para valor maximo \n",
    "bounds = (0, [100000., 1000., 1000000000.])\n",
    "# Copiar apenas os numeros de confirmados do dataset principal\n",
    "data = pd.DataFrame(df['Confirmed'].values)\n",
    "data = data.reset_index(drop=False)\n",
    "# Utilizar assim para numerar os dias \n",
    "# ao inves de data utilizar numero do dia 01 02 ...80 81 etc...\n",
    "data.columns = ['Day', 'Confirmed']\n",
    "x = np.array(data['Day']) + 1\n",
    "y = np.array(data['Confirmed'])\n",
    "# Otimização dos minimos quadrados não lineares,\n",
    "# atraves da biblioteca scipy.optimize que retorna a b c \n",
    "# que minimizam o erro dos minimos quadrados\n",
    "(a,b,c),cov = optim.curve_fit(exemploLog, x, y, bounds=bounds, p0=p0)\n",
    "print( 'a=', a,  'b=', b, 'c=', c )\n",
    "\n",
    "# fig = plt.figure()\n",
    "# ax = fig.gca()\n",
    "# ax.tick_params(axis='x', colors='white')\n",
    "# ax.tick_params(axis='y', colors='white')\n",
    "# plt.plot(x, y)\n"
   ]
  },
  {
   "cell_type": "code",
   "execution_count": null,
   "metadata": {},
   "outputs": [],
   "source": []
  },
  {
   "cell_type": "code",
   "execution_count": 24,
   "metadata": {},
   "outputs": [
    {
     "name": "stdout",
     "output_type": "stream",
     "text": [
      "a= 61.378603568927026 b= 0.21826351119054233 c= 81562.34807685633\n"
     ]
    },
    {
     "data": {
      "text/plain": [
       "Text(0, 0.5, 'confirmados')"
      ]
     },
     "execution_count": 24,
     "metadata": {},
     "output_type": "execute_result"
    },
    {
     "data": {
      "image/png": "[encoded data removed]",
      "text/plain": [
       "<Figure size 432x288 with 1 Axes>"
      ]
     },
     "metadata": {
      "needs_background": "dark"
     },
     "output_type": "display_data"
    }
   ],
   "source": [
    "print( 'a=', a,  'b=', b, 'c=', c )\n",
    "fig = plt.figure()\n",
    "ax = fig.gca()\n",
    "ax.tick_params(axis='x', colors='white')\n",
    "ax.tick_params(axis='y', colors='white')\n",
    "ax.xaxis.label.set_color('white')\n",
    "ax.yaxis.label.set_color('white')\n",
    "plt.scatter(x, y)\n",
    "plt.plot(x, exemploLog(x, a, b, c))\n",
    "plt.title('Modelo logistico x Real na China')\n",
    "plt.legend(['Modelo logistico','Dado Real'])\n",
    "plt.xlabel('data')\n",
    "plt.ylabel('confirmados')\n"
   ]
  },
  {
   "cell_type": "code",
   "execution_count": null,
   "metadata": {},
   "outputs": [],
   "source": []
  }
 ],
 "metadata": {
  "kernelspec": {
   "display_name": "Python 3",
   "language": "python",
   "name": "python3"
  },
  "language_info": {
   "codemirror_mode": {
    "name": "ipython",
    "version": 3
   },
   "file_extension": ".py",
   "mimetype": "text/x-python",
   "name": "python",
   "nbconvert_exporter": "python",
   "pygments_lexer": "ipython3",
   "version": "3.7.4"
  }
 },
 "nbformat": 4,
 "nbformat_minor": 2
}
